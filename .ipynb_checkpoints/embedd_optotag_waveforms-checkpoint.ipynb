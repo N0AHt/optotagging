{
 "cells": [
  {
   "cell_type": "code",
   "execution_count": 2,
   "id": "9c1ed2b7-d76a-4bbd-bd81-b6a768d269da",
   "metadata": {},
   "outputs": [],
   "source": [
    "import pandas as pd\n",
    "import numpy as np\n",
    "import matplotlib as plt\n",
    "import ceed\n",
    "from tqdm import tqdm"
   ]
  },
  {
   "cell_type": "code",
   "execution_count": 34,
   "id": "6e4bc486-4c22-4758-a098-6976045dfd77",
   "metadata": {},
   "outputs": [],
   "source": [
    "#load data\n",
    "\n",
    "path_to_files = '/home/noah/noah/allen/optotagging_ceed_dataset/'\n",
    "#https://stackoverflow.com/questions/19201290/how-to-save-a-dictionary-to-a-file\n",
    "tuned = np.load(path_to_files+'tuned.npy', allow_pickle=True).item()\n",
    "non_tuned = np.load(path_to_files+'non_tuned.npy', allow_pickle= True).item()\n",
    "\n",
    "# tuned = pd.read_csv(path_to_files+'tuned.csv')\n",
    "# non_tuned = pd.read_csv(path_to_files+'non_tuned.csv')"
   ]
  },
  {
   "cell_type": "code",
   "execution_count": 35,
   "id": "52c50cea-1b77-4f90-b7e1-bfc9c9eae46d",
   "metadata": {},
   "outputs": [
    {
     "data": {
      "text/plain": [
       "dict_keys(['Sst', 'Vip', 'Pvalb'])"
      ]
     },
     "execution_count": 35,
     "metadata": {},
     "output_type": "execute_result"
    }
   ],
   "source": [
    "tuned.keys()"
   ]
  },
  {
   "cell_type": "code",
   "execution_count": null,
   "id": "c1871ed5-b788-4e85-8cd5-7a7aed222313",
   "metadata": {},
   "outputs": [],
   "source": [
    "#manipulate these into the correct for for ceed\n",
    "#align at sample 42\n",
    "#upsample to 121 samples somehow (extend?)"
   ]
  },
  {
   "cell_type": "code",
   "execution_count": null,
   "id": "c345371f-3316-48fd-8c05-58eddaa758b2",
   "metadata": {},
   "outputs": [],
   "source": []
  },
  {
   "cell_type": "code",
   "execution_count": null,
   "id": "f91d8084-6fe6-4e23-bd78-15757f344533",
   "metadata": {},
   "outputs": [],
   "source": []
  },
  {
   "cell_type": "code",
   "execution_count": null,
   "id": "48825bd4-34df-49af-846f-d8eb653b966e",
   "metadata": {},
   "outputs": [],
   "source": []
  },
  {
   "cell_type": "code",
   "execution_count": null,
   "id": "7c792c00-685d-4426-bf33-71963f6ab8fa",
   "metadata": {},
   "outputs": [],
   "source": []
  }
 ],
 "metadata": {
  "kernelspec": {
   "display_name": "Python [conda env:ceed]",
   "language": "python",
   "name": "conda-env-ceed-py"
  },
  "language_info": {
   "codemirror_mode": {
    "name": "ipython",
    "version": 3
   },
   "file_extension": ".py",
   "mimetype": "text/x-python",
   "name": "python",
   "nbconvert_exporter": "python",
   "pygments_lexer": "ipython3",
   "version": "3.10.13"
  }
 },
 "nbformat": 4,
 "nbformat_minor": 5
}
