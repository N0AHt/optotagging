{
 "cells": [
  {
   "cell_type": "markdown",
   "id": "31010fe6-6a49-458d-b182-4ec4b1746224",
   "metadata": {},
   "source": [
    "# Extract and generate a dataset for specifict cell types \n",
    "Vip, sst, pvalb, wildtype"
   ]
  },
  {
   "cell_type": "markdown",
   "id": "86d45aef-67d9-4b08-acb9-2be41ba4c51b",
   "metadata": {},
   "source": [
    "## Download data"
   ]
  },
  {
   "cell_type": "code",
   "execution_count": null,
   "id": "de3e4f22-6a3a-4c56-b603-12df8a189b25",
   "metadata": {},
   "outputs": [],
   "source": []
  },
  {
   "cell_type": "code",
   "execution_count": null,
   "id": "0eb56c50-4e92-4feb-8394-6b768b055bdc",
   "metadata": {},
   "outputs": [],
   "source": []
  },
  {
   "cell_type": "code",
   "execution_count": null,
   "id": "72964e97-f759-4cad-a876-9b55a54ab69c",
   "metadata": {},
   "outputs": [],
   "source": []
  },
  {
   "cell_type": "code",
   "execution_count": null,
   "id": "207dbabe-49eb-4d99-9ed4-a89c5f07455a",
   "metadata": {},
   "outputs": [],
   "source": []
  },
  {
   "cell_type": "code",
   "execution_count": null,
   "id": "2e208e12-79a2-44dc-bf34-c01d5f191541",
   "metadata": {},
   "outputs": [],
   "source": []
  },
  {
   "cell_type": "code",
   "execution_count": null,
   "id": "74771577-e14b-497b-9fbd-8e56c7b344dc",
   "metadata": {},
   "outputs": [],
   "source": []
  },
  {
   "cell_type": "code",
   "execution_count": null,
   "id": "673e7d21-e8a3-4803-93d2-c202c5cc9ba6",
   "metadata": {},
   "outputs": [],
   "source": []
  },
  {
   "cell_type": "markdown",
   "id": "0b8cc6b8-62a6-4914-bcf6-85b6d63ffa7f",
   "metadata": {},
   "source": [
    "# Yizi decoding:\n",
    "\n",
    "## Decoding:\n",
    "\n",
    "decoding can halp create a brain decoding map, also bcis\n",
    "\n",
    "note - one session has multiple trials\n",
    "\n",
    "decoding can be descrete or continuous\n",
    "\n",
    "## decoders\n",
    "\n",
    "stat models that predict behaviur as outptm with neural signals as input\n",
    "\n",
    "    linear models:\n",
    "    non-linear: models, NNs, or even large language models\n",
    "tokens = classification of word, or token each neuron POYO\n",
    "\n",
    "\n",
    "## new stuff - decoding without spike sorting, how to share info accross datasets\n",
    "\n",
    "spike sorting cannot always be performed with high enough precision:\n",
    "    erronous spikes, poor quality metrics\n",
    "BUT: sometime using only good quality spikes (KS) can give worse decoding performance than all KS neurons!\n",
    "\n",
    "    Happens accross most brain regions, good neurons 1/4 all neurons\n",
    "\n",
    "## existing spike free decoding methods:\n",
    "\n",
    "    multi-unit threshold crossing\n",
    "\n",
    "## new stuff:\n",
    "    use location features as well as spikes?\n",
    "    use gmms, mixture weights change over time?\n",
    "\n",
    "**minimum sufficient statistics!**\n",
    "\n",
    "## Decoding with shared neural and behavioural info\n",
    "\n",
    "why: similar brain dynamics during the same task across animals!\n",
    "\n",
    "reduced rank model and a multisession reduced-rank model\n",
    "\n",
    "    decompose W into UV\n",
    "    W is neurons[C] x time; U is CxR, V is RxT [R is rank?]\n",
    "    find what rank is needed to achieve good decoding (very low d)\n",
    "\n",
    "Identifying important neurons and time-scales for decoding (interpretability)\n",
    "\n",
    "    behaviourally relevant neural info is low dimentional\n",
    "    Can be used to find latent trajectories\n",
    "    U valye can be used to find importance of a neuron!\n",
    "    mutual information betwenn neural actovoty and wheel speed...\n"
   ]
  },
  {
   "cell_type": "code",
   "execution_count": null,
   "id": "b62393fc-a85f-4020-8f51-9888f525f92c",
   "metadata": {},
   "outputs": [],
   "source": [
    "#could try to use decoding as a metric for spike sorting\n",
    "#could use low rank models to find neurons that predict some behavour"
   ]
  }
 ],
 "metadata": {
  "kernelspec": {
   "display_name": "Python [conda env:optotag2]",
   "language": "python",
   "name": "conda-env-optotag2-py"
  },
  "language_info": {
   "codemirror_mode": {
    "name": "ipython",
    "version": 3
   },
   "file_extension": ".py",
   "mimetype": "text/x-python",
   "name": "python",
   "nbconvert_exporter": "python",
   "pygments_lexer": "ipython3",
   "version": "3.6.15"
  }
 },
 "nbformat": 4,
 "nbformat_minor": 5
}
